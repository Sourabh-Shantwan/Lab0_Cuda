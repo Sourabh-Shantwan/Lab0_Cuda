{
  "nbformat": 4,
  "nbformat_minor": 0,
  "metadata": {
    "colab": {
      "name": "Lab01_HPC/Sourabh",
      "provenance": [],
      "private_outputs": true
    },
    "kernelspec": {
      "name": "python3",
      "display_name": "Python 3"
    },
    "accelerator": "GPU"
  },
  "cells": [
    {
      "cell_type": "code",
      "metadata": {
        "id": "ixx4eda19dkv"
      },
      "source": [
        "import numpy as np\n",
        "from numba import cuda\n",
        "from time import time\n",
        "import math"
      ],
      "execution_count": null,
      "outputs": []
    },
    {
      "cell_type": "code",
      "metadata": {
        "id": "JcEcQGiMmcll"
      },
      "source": [
        "!lscpu |grep 'Model name'\n",
        "!nvidia-smi"
      ],
      "execution_count": null,
      "outputs": []
    },
    {
      "cell_type": "code",
      "metadata": {
        "id": "SIg75XaA-Yuo"
      },
      "source": [
        "def simple_dot_cpu(matrix1, matrix2):\n",
        "  N = len(matrix1)\n",
        "  matrix_res = np.zeros((N,N))\n",
        "  start = time()\n",
        "  for i in range(N):\n",
        "    for j in range(N):\n",
        "      for k in range(N):\n",
        "        matrix_res[i,j] += matrix1[i,k] * matrix2[k,j] \n",
        "        return matrix_res, time()-start     \n"
      ],
      "execution_count": null,
      "outputs": []
    },
    {
      "cell_type": "code",
      "metadata": {
        "id": "rEfPRea0AQey"
      },
      "source": [
        "def numpy_dot_cpu(matrix1, matrix2):\n",
        "  start = time()\n",
        "  matrix_res = np.dot(matrix1, matrix2)\n",
        "  return matrix_res, time() - start"
      ],
      "execution_count": null,
      "outputs": []
    },
    {
      "cell_type": "code",
      "metadata": {
        "id": "ZAPfgu8zAxLJ"
      },
      "source": [
        "@cuda.jit\n",
        "def simple_dot_gpu(matrix1, matrix2, matrix_res):\n",
        "  i, j = cuda.grid(2)\n",
        "  if i < matrix_res.shape[0] and j < matrix_res.shape[1]:\n",
        "   temp = 0\n",
        "   for k in range(matrix1.shape[1]):\n",
        "     temp += matrix1[i, k] * matrix2[k,j]\n",
        "     matrix_res[i,j] = temp"
      ],
      "execution_count": null,
      "outputs": []
    },
    {
      "cell_type": "code",
      "metadata": {
        "id": "iD0yOiVgB_Pg"
      },
      "source": [
        "def gpu_dot_exec(matrix1, matrix2, matrix_res, N):\n",
        "  \n",
        "  tread_number_block = 32\n",
        "  matrix1_global = cuda.to_device(matrix1)\n",
        "  matrix2_global = cuda.to_device(matrix2)\n",
        "  matrix_res_global = cuda.device_array((N, N))\n",
        "\n",
        "  threadsperblock = (tread_number_block, tread_number_block)\n",
        "  blockspergrid_x = int(math.ceil(matrix1.shape[0] / threadsperblock[1]))\n",
        "  blockspergrid_y = int(math.ceil(matrix2.shape[1] / threadsperblock[0]))\n",
        "  blockspergrid = (blockspergrid_x, blockspergrid_y)\n",
        "\n",
        "  start = time()\n",
        "  simple_dot_gpu[blockspergrid, threadsperblock] (matrix1_global, matrix2_global, matrix_res_global)\n",
        "  gpu_time = time() - start\n",
        "  matrix_res_gpu = matrix_res_global.copy_to_host()\n",
        "  return matrix_res_gpu, gpu_time"
      ],
      "execution_count": null,
      "outputs": []
    },
    {
      "cell_type": "code",
      "metadata": {
        "id": "gK7MmoC_DsSo"
      },
      "source": [
        "def one_test(N):\n",
        "  gpu_time = 0\n",
        "  cpu_time = 0\n",
        "  matrix1 = np.random.randint(0, 10, (N, N))\n",
        "  matrix1 = matrix1.astype(np.float64)\n",
        "  matrix2 = np.random.randint(0, 10, (N, N))\n",
        "  matrix2 = matrix2.astype(np.float64)\n",
        "  matrix_res = np.zeros((N, N))\n",
        "  matrix_res = matrix_res.astype(np.float64)\n",
        "\n",
        "\n",
        "  matrix_res_gpu, gpu_time = gpu_dot_exec(matrix1, matrix2, matrix_res, N)\n",
        "  start = time()\n",
        "  matrix_res_cpu = simple_dot_cpu(matrix1, matrix2)\n",
        "  cpu_time += time() - start \n",
        "  \n",
        "  print('Matrix size N =', N)\n",
        "  print('Computation time by CPU =',cpu_time)\n",
        "  print('Computation time by GPU =',gpu_time)\n",
        "  print('Total Acceleration = ', cpu_time/gpu_time)\n",
        "  return cpu_time/gpu_time, matrix_res_cpu, matrix_res_gpu"
      ],
      "execution_count": null,
      "outputs": []
    },
    {
      "cell_type": "code",
      "metadata": {
        "id": "CBNBLURGH1qM"
      },
      "source": [
        "def check_correctly_dot (N) :\n",
        "  matrix1 = np.random.randint(0, 10, (N, N))\n",
        "  matrix1 = matrix1.astype(np.float64)\n",
        "  matrix2 = np.random.randint(0, 10, (N, N))\n",
        "  matrix2 = matrix2.astype(np.float64)\n",
        "  matrix_res = np.zeros ((N, N))\n",
        "  matrix_res = matrix_res.astype(np.float64)\n",
        "  matrix_res_real = numpy_dot_cpu(matrix1, matrix2) [0]\n",
        "  matrix_res_cpu = simple_dot_cpu(matrix1, matrix2) [0]\n",
        "  matrix_res_gpu = gpu_dot_exec(matrix1, matrix2, matrix_res, N) [0]\n",
        "  if np.array_equal(matrix_res_real, matrix_res_cpu):\n",
        "    print('Multiplication by cpu is correct')\n",
        "  else:\n",
        "    print('Multiplication by cpu is not correct')\n",
        "  if np.array_equal(matrix_res_real, matrix_res_gpu):\n",
        "    print('Multiplication by GPU is correct')\n",
        "  else:\n",
        "    print('Multiplication by GPU is not correct')"
      ],
      "execution_count": null,
      "outputs": []
    },
    {
      "cell_type": "code",
      "metadata": {
        "id": "wuktvcwnYw1v"
      },
      "source": [
        "check_correctly_dot(128)\n",
        "result = np.zeros((5,2), dtype = np.float64)\n",
        "result[0][0], result[0][1] = 128, one_test(128) [0]\n",
        "result[1][0], result[1][1] = 256, one_test(256) [0]\n",
        "result[2][0], result[2][1] = 512, one_test(512) [0]\n",
        "result[3][0], result[3][1] = 1024, one_test(1024)[0]\n",
        "result[4][0], result[4][1] = 2048, one_test(2048)[0]"
      ],
      "execution_count": null,
      "outputs": []
    }
  ]
}